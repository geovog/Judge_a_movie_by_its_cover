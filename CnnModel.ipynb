{
 "cells": [
  {
   "cell_type": "code",
   "execution_count": 1,
   "metadata": {},
   "outputs": [],
   "source": [
    "import tensorflow as tf\n",
    "import csv\n",
    "import os\n",
    "import pandas as pd\n",
    "import numpy as np\n",
    "import shutil\n",
    "import PIL\n",
    "from pathlib import Path\n",
    "from sklearn.preprocessing import MultiLabelBinarizer\n",
    "from sklearn.model_selection import train_test_split\n",
    "import glob\n",
    "import piexif\n",
    "from collections import Counter\n",
    "from matplotlib import pyplot as plt\n",
    "from PIL import Image\n",
    "from PIL import ImageFile\n",
    "Image.MAX_IMAGE_PIXELS = None\n",
    "ImageFile.LOAD_TRUNCATED_IMAGES = True\n",
    "from tensorflow.keras.preprocessing.image import ImageDataGenerator\n",
    "from tensorflow.keras.optimizers import Adam\n",
    "from tensorflow.keras import Sequential\n",
    "from tensorflow.keras.layers import Conv2D,MaxPooling2D,Dropout,Flatten,Dense\n",
    "from tensorflow.keras.callbacks import EarlyStopping\n",
    "\n"
   ]
  },
  {
   "cell_type": "code",
   "execution_count": 2,
   "metadata": {},
   "outputs": [],
   "source": [
    "labelsCsv = pd.read_csv(\"C:/Users/manta/Desktop/new.csv\")\n",
    "\n",
    "# When generating datasets from dataframe,using ImageDataGenerator, we noticed that train and valid sets\n",
    "# had a class less than the test set. So comparing the labels we realised that one single tittle had the genre\n",
    "# 'Game-Show' which we have to remove so each set has the same classes\n",
    "labelsCsv = labelsCsv[~labelsCsv.genres.str.contains(\"Game-Show\")]\n",
    "\n",
    "nfiles = 0\n",
    "\n",
    "# We remove exif metadata from pictures and resize them to max size of 128x128, while maintaining the aspect ratio\n",
    "# of the original photo\n",
    "\n",
    "#for filename in glob.iglob('C:/IMDB_m/*.jpg', recursive=True):\n",
    "    #nfiles = nfiles + 1\n",
    "    #print(\"About to process file %d, which is %s.\" % (nfiles,filename))\n",
    "    #piexif.remove(filename)\n",
    "\n",
    "size=(128, 128)\n",
    "\n",
    "#for filename in glob.iglob('C:/IMDB_m/*.jpg', recursive=True):\n",
    "    #im = Image.open(filename)\n",
    "    #im.thumbnail(size, Image.ANTIALIAS)\n",
    "    #x = filename.split(\"\\\\\", 1)\n",
    "    #im.save(\"C:/IMDB_mr/\"+x[1], \"JPEG\")\n",
    "\n"
   ]
  },
  {
   "cell_type": "code",
   "execution_count": 3,
   "metadata": {},
   "outputs": [
    {
     "name": "stderr",
     "output_type": "stream",
     "text": [
      "C:\\ProgramData\\Anaconda3\\envs\\tf-gpu\\lib\\site-packages\\ipykernel_launcher.py:3: VisibleDeprecationWarning: Creating an ndarray from ragged nested sequences (which is a list-or-tuple of lists-or-tuples-or ndarrays with different lengths or shapes) is deprecated. If you meant to do this, you must specify 'dtype=object' when creating the ndarray\n",
      "  This is separate from the ipykernel package so we can avoid doing imports until\n"
     ]
    }
   ],
   "source": [
    "all_genres = [[genre for genre in cel.split(',')] for cel in labelsCsv.genres]\n",
    "one_hot = MultiLabelBinarizer()\n",
    "y_s =one_hot.fit_transform(np.array(all_genres))"
   ]
  },
  {
   "cell_type": "code",
   "execution_count": 4,
   "metadata": {},
   "outputs": [],
   "source": [
    "# creating and formating the dataset that we are going to use\n",
    "d = {'filename' : [tconst + \".jpg\" for tconst in labelsCsv.tconst],\n",
    "    'labels' : [[genre for genre in cel.split(',')] for cel in labelsCsv.genres]}\n",
    "\n",
    "img_metadata_df = pd.DataFrame(d)\n",
    "\n",
    "train, test = train_test_split(img_metadata_df, test_size=0.20, random_state=9, shuffle=True)\n",
    "data_dir=\"C:/IMDB_mr/\"\n",
    "train_path = Path(data_dir, 'train.csv')\n",
    "test_path = Path(data_dir, 'test.csv')\n",
    "train.to_csv(train_path, sep=',', index=False)\n",
    "test.to_csv(test_path, sep=',', index=False)"
   ]
  },
  {
   "cell_type": "code",
   "execution_count": 5,
   "metadata": {},
   "outputs": [
    {
     "data": {
      "text/html": [
       "<div>\n",
       "<style scoped>\n",
       "    .dataframe tbody tr th:only-of-type {\n",
       "        vertical-align: middle;\n",
       "    }\n",
       "\n",
       "    .dataframe tbody tr th {\n",
       "        vertical-align: top;\n",
       "    }\n",
       "\n",
       "    .dataframe thead th {\n",
       "        text-align: right;\n",
       "    }\n",
       "</style>\n",
       "<table border=\"1\" class=\"dataframe\">\n",
       "  <thead>\n",
       "    <tr style=\"text-align: right;\">\n",
       "      <th></th>\n",
       "      <th>filename</th>\n",
       "      <th>labels</th>\n",
       "    </tr>\n",
       "  </thead>\n",
       "  <tbody>\n",
       "    <tr>\n",
       "      <th>0</th>\n",
       "      <td>tt0018295.jpg</td>\n",
       "      <td>[Action, Drama, Short]</td>\n",
       "    </tr>\n",
       "    <tr>\n",
       "      <th>1</th>\n",
       "      <td>tt0035423.jpg</td>\n",
       "      <td>[Comedy, Fantasy, Romance]</td>\n",
       "    </tr>\n",
       "    <tr>\n",
       "      <th>2</th>\n",
       "      <td>tt0068943.jpg</td>\n",
       "      <td>[Documentary, Short]</td>\n",
       "    </tr>\n",
       "    <tr>\n",
       "      <th>3</th>\n",
       "      <td>tt0088751.jpg</td>\n",
       "      <td>[Comedy, Horror, Sci-Fi]</td>\n",
       "    </tr>\n",
       "    <tr>\n",
       "      <th>4</th>\n",
       "      <td>tt0096056.jpg</td>\n",
       "      <td>[Drama]</td>\n",
       "    </tr>\n",
       "    <tr>\n",
       "      <th>...</th>\n",
       "      <td>...</td>\n",
       "      <td>...</td>\n",
       "    </tr>\n",
       "    <tr>\n",
       "      <th>92765</th>\n",
       "      <td>tt9725160.jpg</td>\n",
       "      <td>[Biography]</td>\n",
       "    </tr>\n",
       "    <tr>\n",
       "      <th>92766</th>\n",
       "      <td>tt9727592.jpg</td>\n",
       "      <td>[Music, Short]</td>\n",
       "    </tr>\n",
       "    <tr>\n",
       "      <th>92767</th>\n",
       "      <td>tt9728286.jpg</td>\n",
       "      <td>[Action, Short]</td>\n",
       "    </tr>\n",
       "    <tr>\n",
       "      <th>92768</th>\n",
       "      <td>tt9729754.jpg</td>\n",
       "      <td>[Documentary]</td>\n",
       "    </tr>\n",
       "    <tr>\n",
       "      <th>92769</th>\n",
       "      <td>tt9729806.jpg</td>\n",
       "      <td>[Documentary]</td>\n",
       "    </tr>\n",
       "  </tbody>\n",
       "</table>\n",
       "<p>92770 rows × 2 columns</p>\n",
       "</div>"
      ],
      "text/plain": [
       "            filename                      labels\n",
       "0      tt0018295.jpg      [Action, Drama, Short]\n",
       "1      tt0035423.jpg  [Comedy, Fantasy, Romance]\n",
       "2      tt0068943.jpg        [Documentary, Short]\n",
       "3      tt0088751.jpg    [Comedy, Horror, Sci-Fi]\n",
       "4      tt0096056.jpg                     [Drama]\n",
       "...              ...                         ...\n",
       "92765  tt9725160.jpg                 [Biography]\n",
       "92766  tt9727592.jpg              [Music, Short]\n",
       "92767  tt9728286.jpg             [Action, Short]\n",
       "92768  tt9729754.jpg               [Documentary]\n",
       "92769  tt9729806.jpg               [Documentary]\n",
       "\n",
       "[92770 rows x 2 columns]"
      ]
     },
     "execution_count": 5,
     "metadata": {},
     "output_type": "execute_result"
    }
   ],
   "source": [
    "img_metadata_df"
   ]
  },
  {
   "cell_type": "code",
   "execution_count": 29,
   "metadata": {},
   "outputs": [
    {
     "name": "stdout",
     "output_type": "stream",
     "text": [
      "Found 59373 validated image filenames belonging to 26 classes.\n",
      "Found 14843 validated image filenames belonging to 26 classes.\n",
      "Found 18554 validated image filenames belonging to 26 classes.\n"
     ]
    }
   ],
   "source": [
    "# defining the geerators that are going to pass batches of images during training\n",
    "# rescaled and resized while performing a validation split in 0.2\n",
    "img_gen = ImageDataGenerator(rescale=1./255., validation_split=0.2)\n",
    "\n",
    "img_iter_train = img_gen.flow_from_dataframe(\n",
    "    dataframe=train,\n",
    "    shuffle=True,\n",
    "    seed = 9,\n",
    "    directory=\"C:/IMDB_mr/\",\n",
    "    x_col='filename',\n",
    "    y_col='labels',\n",
    "    class_mode='categorical',\n",
    "    target_size=(128, 128),\n",
    "    batch_size=50,\n",
    "    subset='training'\n",
    ") \n",
    "\n",
    "img_iter_val = img_gen.flow_from_dataframe(\n",
    "    dataframe=train,\n",
    "    shuffle=True,\n",
    "    seed = 9,\n",
    "    directory=\"C:/IMDB_mr/\",\n",
    "    x_col='filename',\n",
    "    y_col='labels',\n",
    "    class_mode='categorical',\n",
    "    target_size=(128, 128),\n",
    "    batch_size=100,\n",
    "    subset='validation'\n",
    ") \n",
    "\n",
    "test_datagen=ImageDataGenerator(rescale=1./255.)\n",
    "\n",
    "test_generator=test_datagen.flow_from_dataframe(\n",
    "dataframe=test,\n",
    "directory=\"C:/IMDB_mr/\",\n",
    "x_col='filename',\n",
    "y_col='labels',\n",
    "class_mode='categorical',\n",
    "batch_size=1,\n",
    "seed=9,\n",
    "shuffle=False,\n",
    "target_size=(128, 128)\n",
    ")\n"
   ]
  },
  {
   "cell_type": "code",
   "execution_count": 30,
   "metadata": {},
   "outputs": [
    {
     "data": {
      "text/plain": [
       "74873            [Comedy, Drama, Short]\n",
       "77438          [Biography, Documentary]\n",
       "51929              [Documentary, Short]\n",
       "15796                    [Drama, Short]\n",
       "83489                       [Biography]\n",
       "                      ...              \n",
       "22584    [Adventure, Animation, Family]\n",
       "65462    [Adventure, Animation, Comedy]\n",
       "66037          [Drama, Horror, Mystery]\n",
       "55934                [Animation, Short]\n",
       "86364                           [Short]\n",
       "Name: labels, Length: 74216, dtype: object"
      ]
     },
     "execution_count": 30,
     "metadata": {},
     "output_type": "execute_result"
    }
   ],
   "source": [
    "train.labels"
   ]
  },
  {
   "cell_type": "code",
   "execution_count": 71,
   "metadata": {},
   "outputs": [],
   "source": [
    "# definging the model and compiling using Adam optimizer with a learning\n",
    "# rate of 0.001 and metrics accuracy and top k categorical accuracy\n",
    "model = Sequential([\n",
    "Conv2D(filters=16, kernel_size=(3, 3), activation=\"relu\", input_shape=(128,128,3)),\n",
    "MaxPooling2D(pool_size=(2, 2)),\n",
    "Dropout(0.25),\n",
    "Conv2D(filters=32, kernel_size=(3, 3), activation='relu'),\n",
    "MaxPooling2D(pool_size=(2, 2)),\n",
    "Dropout(0.25),\n",
    "Conv2D(filters=64, kernel_size=(3, 3), activation='relu'),\n",
    "MaxPooling2D(pool_size=(2, 2)),\n",
    "Dropout(0.25),\n",
    "Conv2D(128,(3,3),activation='relu'),\n",
    "Conv2D(64,(1,1),activation='relu'),\n",
    "MaxPooling2D(pool_size=(2, 2)),\n",
    "Dropout(0.25),    \n",
    "Flatten(),\n",
    "Dense(512, activation='relu'),\n",
    "Dropout(0.5),\n",
    "Dense(256, activation='relu'),\n",
    "Dropout(0.5),\n",
    "Dense(26, activation='sigmoid')\n",
    "])\n",
    "\n",
    "model.compile(optimizer=Adam(lr = 0.00009), \n",
    "              loss='binary_crossentropy', \n",
    "              metrics=['accuracy','top_k_categorical_accuracy'])"
   ]
  },
  {
   "cell_type": "code",
   "execution_count": 72,
   "metadata": {
    "scrolled": true
   },
   "outputs": [
    {
     "name": "stdout",
     "output_type": "stream",
     "text": [
      "Model: \"sequential_8\"\n",
      "_________________________________________________________________\n",
      "Layer (type)                 Output Shape              Param #   \n",
      "=================================================================\n",
      "conv2d_26 (Conv2D)           (None, 126, 126, 16)      448       \n",
      "_________________________________________________________________\n",
      "max_pooling2d_26 (MaxPooling (None, 63, 63, 16)        0         \n",
      "_________________________________________________________________\n",
      "dropout_42 (Dropout)         (None, 63, 63, 16)        0         \n",
      "_________________________________________________________________\n",
      "conv2d_27 (Conv2D)           (None, 61, 61, 32)        4640      \n",
      "_________________________________________________________________\n",
      "max_pooling2d_27 (MaxPooling (None, 30, 30, 32)        0         \n",
      "_________________________________________________________________\n",
      "dropout_43 (Dropout)         (None, 30, 30, 32)        0         \n",
      "_________________________________________________________________\n",
      "conv2d_28 (Conv2D)           (None, 28, 28, 64)        18496     \n",
      "_________________________________________________________________\n",
      "max_pooling2d_28 (MaxPooling (None, 14, 14, 64)        0         \n",
      "_________________________________________________________________\n",
      "dropout_44 (Dropout)         (None, 14, 14, 64)        0         \n",
      "_________________________________________________________________\n",
      "conv2d_29 (Conv2D)           (None, 12, 12, 128)       73856     \n",
      "_________________________________________________________________\n",
      "conv2d_30 (Conv2D)           (None, 12, 12, 64)        8256      \n",
      "_________________________________________________________________\n",
      "max_pooling2d_29 (MaxPooling (None, 6, 6, 64)          0         \n",
      "_________________________________________________________________\n",
      "dropout_45 (Dropout)         (None, 6, 6, 64)          0         \n",
      "_________________________________________________________________\n",
      "flatten_8 (Flatten)          (None, 2304)              0         \n",
      "_________________________________________________________________\n",
      "dense_24 (Dense)             (None, 512)               1180160   \n",
      "_________________________________________________________________\n",
      "dropout_46 (Dropout)         (None, 512)               0         \n",
      "_________________________________________________________________\n",
      "dense_25 (Dense)             (None, 256)               131328    \n",
      "_________________________________________________________________\n",
      "dropout_47 (Dropout)         (None, 256)               0         \n",
      "_________________________________________________________________\n",
      "dense_26 (Dense)             (None, 26)                6682      \n",
      "=================================================================\n",
      "Total params: 1,423,866\n",
      "Trainable params: 1,423,866\n",
      "Non-trainable params: 0\n",
      "_________________________________________________________________\n"
     ]
    }
   ],
   "source": [
    "model.summary()"
   ]
  },
  {
   "cell_type": "code",
   "execution_count": 73,
   "metadata": {},
   "outputs": [],
   "source": [
    "es = EarlyStopping(monitor = 'val_top_k_categorical_accuracy',\n",
    "                           mode = 'max',\n",
    "                           verbose = 2,\n",
    "                           patience = 10,\n",
    "                           min_delta = 0.001,\n",
    "                           restore_best_weights = True)"
   ]
  },
  {
   "cell_type": "code",
   "execution_count": 74,
   "metadata": {},
   "outputs": [],
   "source": [
    "STEP_SIZE_TRAIN=img_iter_train.n//img_iter_train.batch_size\n",
    "STEP_SIZE_VALID=img_iter_val.n//img_iter_val.batch_size\n",
    "STEP_SIZE_TEST=test_generator.n//test_generator.batch_size"
   ]
  },
  {
   "cell_type": "code",
   "execution_count": 75,
   "metadata": {
    "scrolled": false
   },
   "outputs": [
    {
     "name": "stdout",
     "output_type": "stream",
     "text": [
      "Epoch 1/50\n",
      "1187/1187 [==============================] - 69s 58ms/step - loss: 0.2398 - accuracy: 0.9149 - top_k_categorical_accuracy: 0.6220 - val_loss: 0.2394 - val_accuracy: 0.9255 - val_top_k_categorical_accuracy: 0.7259\n",
      "Epoch 2/50\n",
      "1187/1187 [==============================] - 67s 57ms/step - loss: 0.2090 - accuracy: 0.9259 - top_k_categorical_accuracy: 0.7009 - val_loss: 0.2093 - val_accuracy: 0.9274 - val_top_k_categorical_accuracy: 0.7230\n",
      "Epoch 3/50\n",
      "1187/1187 [==============================] - 68s 57ms/step - loss: 0.2046 - accuracy: 0.9273 - top_k_categorical_accuracy: 0.7163 - val_loss: 0.2019 - val_accuracy: 0.9245 - val_top_k_categorical_accuracy: 0.7243\n",
      "Epoch 4/50\n",
      "1187/1187 [==============================] - 67s 56ms/step - loss: 0.2021 - accuracy: 0.9280 - top_k_categorical_accuracy: 0.7225 - val_loss: 0.2003 - val_accuracy: 0.9258 - val_top_k_categorical_accuracy: 0.7272\n",
      "Epoch 5/50\n",
      "1187/1187 [==============================] - 68s 57ms/step - loss: 0.2006 - accuracy: 0.9282 - top_k_categorical_accuracy: 0.7275 - val_loss: 0.1997 - val_accuracy: 0.9260 - val_top_k_categorical_accuracy: 0.7272\n",
      "Epoch 6/50\n",
      "1187/1187 [==============================] - 67s 56ms/step - loss: 0.1997 - accuracy: 0.9286 - top_k_categorical_accuracy: 0.7284 - val_loss: 0.1999 - val_accuracy: 0.9255 - val_top_k_categorical_accuracy: 0.7279\n",
      "Epoch 7/50\n",
      "1187/1187 [==============================] - 68s 57ms/step - loss: 0.1987 - accuracy: 0.9288 - top_k_categorical_accuracy: 0.7302 - val_loss: 0.1982 - val_accuracy: 0.9267 - val_top_k_categorical_accuracy: 0.7284\n",
      "Epoch 8/50\n",
      "1187/1187 [==============================] - 67s 56ms/step - loss: 0.1980 - accuracy: 0.9289 - top_k_categorical_accuracy: 0.7330 - val_loss: 0.2001 - val_accuracy: 0.9251 - val_top_k_categorical_accuracy: 0.7271\n",
      "Epoch 9/50\n",
      "1187/1187 [==============================] - 68s 58ms/step - loss: 0.1976 - accuracy: 0.9289 - top_k_categorical_accuracy: 0.7349 - val_loss: 0.1974 - val_accuracy: 0.9285 - val_top_k_categorical_accuracy: 0.7368\n",
      "Epoch 10/50\n",
      "1187/1187 [==============================] - 66s 56ms/step - loss: 0.1971 - accuracy: 0.9291 - top_k_categorical_accuracy: 0.7361 - val_loss: 0.1972 - val_accuracy: 0.9284 - val_top_k_categorical_accuracy: 0.7397\n",
      "Epoch 11/50\n",
      "1187/1187 [==============================] - 68s 57ms/step - loss: 0.1964 - accuracy: 0.9292 - top_k_categorical_accuracy: 0.7367 - val_loss: 0.1968 - val_accuracy: 0.9279 - val_top_k_categorical_accuracy: 0.7343\n",
      "Epoch 12/50\n",
      "1187/1187 [==============================] - 67s 56ms/step - loss: 0.1961 - accuracy: 0.9293 - top_k_categorical_accuracy: 0.7374 - val_loss: 0.1956 - val_accuracy: 0.9288 - val_top_k_categorical_accuracy: 0.7428\n",
      "Epoch 13/50\n",
      "1187/1187 [==============================] - 68s 58ms/step - loss: 0.1954 - accuracy: 0.9294 - top_k_categorical_accuracy: 0.7389 - val_loss: 0.1965 - val_accuracy: 0.9281 - val_top_k_categorical_accuracy: 0.7400\n",
      "Epoch 14/50\n",
      "1187/1187 [==============================] - 68s 58ms/step - loss: 0.1951 - accuracy: 0.9294 - top_k_categorical_accuracy: 0.7404 - val_loss: 0.1968 - val_accuracy: 0.9282 - val_top_k_categorical_accuracy: 0.7399\n",
      "Epoch 15/50\n",
      "1187/1187 [==============================] - 68s 57ms/step - loss: 0.1944 - accuracy: 0.9297 - top_k_categorical_accuracy: 0.7422 - val_loss: 0.1960 - val_accuracy: 0.9287 - val_top_k_categorical_accuracy: 0.7363\n",
      "Epoch 16/50\n",
      "1187/1187 [==============================] - 67s 56ms/step - loss: 0.1940 - accuracy: 0.9298 - top_k_categorical_accuracy: 0.7416 - val_loss: 0.1960 - val_accuracy: 0.9290 - val_top_k_categorical_accuracy: 0.7426\n",
      "Epoch 17/50\n",
      "1187/1187 [==============================] - 68s 57ms/step - loss: 0.1936 - accuracy: 0.9298 - top_k_categorical_accuracy: 0.7448 - val_loss: 0.1961 - val_accuracy: 0.9289 - val_top_k_categorical_accuracy: 0.7440\n",
      "Epoch 18/50\n",
      "1187/1187 [==============================] - 67s 56ms/step - loss: 0.1932 - accuracy: 0.9299 - top_k_categorical_accuracy: 0.7428 - val_loss: 0.1963 - val_accuracy: 0.9289 - val_top_k_categorical_accuracy: 0.7352\n",
      "Epoch 19/50\n",
      "1187/1187 [==============================] - 68s 57ms/step - loss: 0.1928 - accuracy: 0.9300 - top_k_categorical_accuracy: 0.7453 - val_loss: 0.1955 - val_accuracy: 0.9292 - val_top_k_categorical_accuracy: 0.7360\n",
      "Epoch 20/50\n",
      "1187/1187 [==============================] - 67s 56ms/step - loss: 0.1924 - accuracy: 0.9301 - top_k_categorical_accuracy: 0.7460 - val_loss: 0.1960 - val_accuracy: 0.9294 - val_top_k_categorical_accuracy: 0.7316\n",
      "Epoch 21/50\n",
      "1187/1187 [==============================] - 68s 57ms/step - loss: 0.1921 - accuracy: 0.9301 - top_k_categorical_accuracy: 0.7467 - val_loss: 0.1954 - val_accuracy: 0.9295 - val_top_k_categorical_accuracy: 0.7352\n",
      "Epoch 22/50\n",
      "1187/1187 [==============================] - 67s 57ms/step - loss: 0.1918 - accuracy: 0.9303 - top_k_categorical_accuracy: 0.7468 - val_loss: 0.1958 - val_accuracy: 0.9293 - val_top_k_categorical_accuracy: 0.7404\n",
      "Epoch 23/50\n",
      "1187/1187 [==============================] - 68s 57ms/step - loss: 0.1915 - accuracy: 0.9304 - top_k_categorical_accuracy: 0.7474 - val_loss: 0.1939 - val_accuracy: 0.9296 - val_top_k_categorical_accuracy: 0.7416\n",
      "Epoch 24/50\n",
      "1187/1187 [==============================] - 67s 57ms/step - loss: 0.1910 - accuracy: 0.9304 - top_k_categorical_accuracy: 0.7496 - val_loss: 0.1936 - val_accuracy: 0.9299 - val_top_k_categorical_accuracy: 0.7377\n",
      "Epoch 25/50\n",
      "1187/1187 [==============================] - 68s 57ms/step - loss: 0.1907 - accuracy: 0.9305 - top_k_categorical_accuracy: 0.7492 - val_loss: 0.1939 - val_accuracy: 0.9294 - val_top_k_categorical_accuracy: 0.7425\n",
      "Epoch 26/50\n",
      "1187/1187 [==============================] - 67s 57ms/step - loss: 0.1904 - accuracy: 0.9307 - top_k_categorical_accuracy: 0.7512 - val_loss: 0.1934 - val_accuracy: 0.9296 - val_top_k_categorical_accuracy: 0.7382\n",
      "Epoch 27/50\n",
      "1186/1187 [============================>.] - ETA: 0s - loss: 0.1902 - accuracy: 0.9306 - top_k_categorical_accuracy: 0.7526Restoring model weights from the end of the best epoch.\n",
      "1187/1187 [==============================] - 68s 57ms/step - loss: 0.1902 - accuracy: 0.9306 - top_k_categorical_accuracy: 0.7524 - val_loss: 0.1943 - val_accuracy: 0.9298 - val_top_k_categorical_accuracy: 0.7372\n",
      "Epoch 00027: early stopping\n"
     ]
    }
   ],
   "source": [
    "history = model.fit_generator(\n",
    "    generator = img_iter_train,\n",
    "    validation_data = img_iter_val,\n",
    "    epochs=50,\n",
    "    steps_per_epoch = STEP_SIZE_TRAIN,\n",
    "    validation_steps= STEP_SIZE_VALID,\n",
    "    callbacks= [es]\n",
    ")"
   ]
  },
  {
   "cell_type": "code",
   "execution_count": 76,
   "metadata": {},
   "outputs": [
    {
     "data": {
      "image/png": "[encoded data removed]",
      "text/plain": [
       "<Figure size 432x288 with 1 Axes>"
      ]
     },
     "metadata": {
      "needs_background": "light"
     },
     "output_type": "display_data"
    }
   ],
   "source": [
    "plt.plot(history.history['accuracy'])\n",
    "plt.plot(history.history['val_accuracy'])\n",
    "plt.title('model accuracy')\n",
    "plt.ylabel('accuracy')\n",
    "plt.xlabel('epoch')\n",
    "plt.legend(['training', 'validation'], loc='upper left')\n",
    "plt.show()"
   ]
  },
  {
   "cell_type": "code",
   "execution_count": 77,
   "metadata": {},
   "outputs": [
    {
     "data": {
      "image/png": "[encoded data removed]",
      "text/plain": [
       "<Figure size 432x288 with 1 Axes>"
      ]
     },
     "metadata": {
      "needs_background": "light"
     },
     "output_type": "display_data"
    }
   ],
   "source": [
    "plt.plot(history.history['loss'])\n",
    "plt.plot(history.history['val_loss'])\n",
    "plt.title('model loss')\n",
    "plt.ylabel('loss')\n",
    "plt.xlabel('epoch')\n",
    "plt.legend(['training', 'validation'], loc='upper left')\n",
    "plt.show()"
   ]
  },
  {
   "cell_type": "code",
   "execution_count": 78,
   "metadata": {},
   "outputs": [
    {
     "name": "stdout",
     "output_type": "stream",
     "text": [
      "18554/18554 [==============================] - 126s 7ms/step\n"
     ]
    }
   ],
   "source": [
    "test_generator.reset()\n",
    "pred=model.predict_generator(test_generator,\n",
    "steps=STEP_SIZE_TEST,\n",
    "verbose=1)"
   ]
  },
  {
   "cell_type": "code",
   "execution_count": 79,
   "metadata": {},
   "outputs": [
    {
     "name": "stdout",
     "output_type": "stream",
     "text": [
      "18554/18554 [==============================] - 241s 13ms/step - loss: 0.1959 - accuracy: 0.9289 - top_k_categorical_accuracy: 0.74441s - loss: 0.1959 - accuracy: 0.9289 - top_k_categorical\n"
     ]
    },
    {
     "data": {
      "text/plain": [
       "[0.19587888329168282, 0.92888916, 0.7443678]"
      ]
     },
     "execution_count": 79,
     "metadata": {},
     "output_type": "execute_result"
    }
   ],
   "source": [
    "test_generator.reset()\n",
    "model.evaluate_generator(generator = test_generator, \n",
    "                         steps=STEP_SIZE_TEST,\n",
    "                         verbose=1)"
   ]
  },
  {
   "cell_type": "code",
   "execution_count": 80,
   "metadata": {},
   "outputs": [
    {
     "name": "stdout",
     "output_type": "stream",
     "text": [
      "INFO:tensorflow:Assets written to: C:/IMDB_mr/Model/assets\n"
     ]
    }
   ],
   "source": [
    "model.save('C:/IMDB_mr/Model/')\n",
    "np.savetxt(\"preds.csv\", pred, delimiter=\",\")"
   ]
  },
  {
   "cell_type": "code",
   "execution_count": 81,
   "metadata": {},
   "outputs": [],
   "source": [
    "#pred01 = pred\n",
    "#pred01[pred01 >= 0.5] = 1\n",
    "#pred01[pred01 < 0.5] = 0\n",
    "#np.savetxt(\"preds01.csv\", pred01, delimiter=\",\")\n",
    "#print(pred)\n",
    "#print(pred01)"
   ]
  },
  {
   "cell_type": "code",
   "execution_count": 82,
   "metadata": {},
   "outputs": [],
   "source": [
    "predicted_class_indices=np.argmax(pred,axis=1)\n",
    "\n",
    "test_generator.reset()\n",
    "labels = (test_generator.class_indices)\n",
    "labels = dict((v,k) for k,v in labels.items())\n",
    "\n",
    "predictions = [labels[k] for k in predicted_class_indices]\n",
    "\n",
    "filenames=test_generator.filenames\n",
    "results=pd.DataFrame({\"Filename\":filenames,\n",
    "                      \"Predictions\":predictions})\n",
    "results.to_csv(\"results.csv\",index=False)\n"
   ]
  },
  {
   "cell_type": "code",
   "execution_count": null,
   "metadata": {},
   "outputs": [],
   "source": []
  }
 ],
 "metadata": {
  "kernelspec": {
   "display_name": "Python 3",
   "language": "python",
   "name": "python3"
  },
  "language_info": {
   "codemirror_mode": {
    "name": "ipython",
    "version": 3
   },
   "file_extension": ".py",
   "mimetype": "text/x-python",
   "name": "python",
   "nbconvert_exporter": "python",
   "pygments_lexer": "ipython3",
   "version": "3.7.7"
  }
 },
 "nbformat": 4,
 "nbformat_minor": 4
}
