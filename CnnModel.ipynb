{
 "cells": [
  {
   "cell_type": "code",
   "execution_count": 1,
   "metadata": {},
   "outputs": [],
   "source": [
    "import tensorflow as tf\n",
    "import csv\n",
    "import os\n",
    "import pandas as pd\n",
    "import numpy as np\n",
    "import shutil\n",
    "import PIL\n",
    "from pathlib import Path\n",
    "from sklearn.preprocessing import MultiLabelBinarizer\n",
    "from sklearn.model_selection import train_test_split\n",
    "import glob\n",
    "import piexif\n",
    "from collections import Counter\n",
    "from matplotlib import pyplot as plt\n",
    "from PIL import Image\n",
    "from PIL import ImageFile\n",
    "Image.MAX_IMAGE_PIXELS = None\n",
    "ImageFile.LOAD_TRUNCATED_IMAGES = True\n",
    "from tensorflow.keras.preprocessing.image import ImageDataGenerator\n",
    "from tensorflow.keras.optimizers import Adam\n",
    "from tensorflow.keras import Sequential\n",
    "from tensorflow.keras.layers import Conv2D,MaxPooling2D,Dropout,Flatten,Dense\n",
    "from tensorflow.keras.callbacks import EarlyStopping\n",
    "\n"
   ]
  },
  {
   "cell_type": "code",
   "execution_count": 2,
   "metadata": {},
   "outputs": [],
   "source": [
    "labelsCsv = pd.read_csv(\"C:/Users/manta/Desktop/new.csv\")\n",
    "\n",
    "# When generating datasets from dataframe,using ImageDataGenerator, we noticed that train and valid sets\n",
    "# had a class less than the test set. So comparing the labels we realised that one single tittle had the genre\n",
    "# 'Game-Show' which we have to remove so each set has the same classes\n",
    "labelsCsv = labelsCsv[~labelsCsv.genres.str.contains(\"Game-Show\")]\n",
    "\n",
    "nfiles = 0\n",
    "\n",
    "# We remove exif metadata from pictures and resize them to max size of 128x128, while maintaining the aspect ratio\n",
    "# of the original photo\n",
    "\n",
    "#for filename in glob.iglob('C:/IMDB_dataset/*.jpg', recursive=True):\n",
    "#    nfiles = nfiles + 1\n",
    "#    print(\"About to process file %d, which is %s.\" % (nfiles,filename))\n",
    "#    piexif.remove(filename)\n",
    "size=(128, 128)\n",
    "#for filename in glob.iglob('C:/IMDB_dataset/*.jpg', recursive=True):\n",
    "    #im = Image.open(filename)\n",
    "    #im.thumbnail(size, Image.ANTIALIAS)\n",
    "    #x = filename.split(\"\\\\\", 1)\n",
    "    #im.save(\"C:/IMDB_resized/\"+x[1], \"JPEG\")\n",
    "\n"
   ]
  },
  {
   "cell_type": "code",
   "execution_count": 3,
   "metadata": {},
   "outputs": [
    {
     "name": "stderr",
     "output_type": "stream",
     "text": [
      "C:\\ProgramData\\Anaconda3\\envs\\tf-gpu\\lib\\site-packages\\ipykernel_launcher.py:3: VisibleDeprecationWarning: Creating an ndarray from ragged nested sequences (which is a list-or-tuple of lists-or-tuples-or ndarrays with different lengths or shapes) is deprecated. If you meant to do this, you must specify 'dtype=object' when creating the ndarray\n",
      "  This is separate from the ipykernel package so we can avoid doing imports until\n"
     ]
    }
   ],
   "source": [
    "all_genres = [[genre for genre in cel.split(',')] for cel in labelsCsv.genres]\n",
    "one_hot = MultiLabelBinarizer()\n",
    "y_s =one_hot.fit_transform(np.array(all_genres))"
   ]
  },
  {
   "cell_type": "code",
   "execution_count": 4,
   "metadata": {},
   "outputs": [],
   "source": [
    "# creating and formating the dataset that we are going to use\n",
    "d = {'filename' : [tconst + \".jpg\" for tconst in labelsCsv.tconst],\n",
    "    'labels' : [[genre for genre in cel.split(',')] for cel in labelsCsv.genres]}\n",
    "\n",
    "img_metadata_df = pd.DataFrame(d)\n",
    "\n",
    "train, test = train_test_split(img_metadata_df, test_size=0.25, random_state=9, shuffle=True)\n",
    "data_dir=\"C:/IMDB_resized/\"\n",
    "train_path = Path(data_dir, 'train.csv')\n",
    "test_path = Path(data_dir, 'test.csv')\n",
    "train.to_csv(train_path, sep=',', index=False)\n",
    "test.to_csv(test_path, sep=',', index=False)"
   ]
  },
  {
   "cell_type": "code",
   "execution_count": 5,
   "metadata": {},
   "outputs": [
    {
     "data": {
      "text/html": [
       "<div>\n",
       "<style scoped>\n",
       "    .dataframe tbody tr th:only-of-type {\n",
       "        vertical-align: middle;\n",
       "    }\n",
       "\n",
       "    .dataframe tbody tr th {\n",
       "        vertical-align: top;\n",
       "    }\n",
       "\n",
       "    .dataframe thead th {\n",
       "        text-align: right;\n",
       "    }\n",
       "</style>\n",
       "<table border=\"1\" class=\"dataframe\">\n",
       "  <thead>\n",
       "    <tr style=\"text-align: right;\">\n",
       "      <th></th>\n",
       "      <th>filename</th>\n",
       "      <th>labels</th>\n",
       "    </tr>\n",
       "  </thead>\n",
       "  <tbody>\n",
       "    <tr>\n",
       "      <th>0</th>\n",
       "      <td>tt0018295.jpg</td>\n",
       "      <td>[Action, Drama, Short]</td>\n",
       "    </tr>\n",
       "    <tr>\n",
       "      <th>1</th>\n",
       "      <td>tt0035423.jpg</td>\n",
       "      <td>[Comedy, Fantasy, Romance]</td>\n",
       "    </tr>\n",
       "    <tr>\n",
       "      <th>2</th>\n",
       "      <td>tt0068943.jpg</td>\n",
       "      <td>[Documentary, Short]</td>\n",
       "    </tr>\n",
       "    <tr>\n",
       "      <th>3</th>\n",
       "      <td>tt0088751.jpg</td>\n",
       "      <td>[Comedy, Horror, Sci-Fi]</td>\n",
       "    </tr>\n",
       "    <tr>\n",
       "      <th>4</th>\n",
       "      <td>tt0096056.jpg</td>\n",
       "      <td>[Drama]</td>\n",
       "    </tr>\n",
       "    <tr>\n",
       "      <th>...</th>\n",
       "      <td>...</td>\n",
       "      <td>...</td>\n",
       "    </tr>\n",
       "    <tr>\n",
       "      <th>51171</th>\n",
       "      <td>tt9907474.jpg</td>\n",
       "      <td>[Drama, Short]</td>\n",
       "    </tr>\n",
       "    <tr>\n",
       "      <th>51172</th>\n",
       "      <td>tt9907718.jpg</td>\n",
       "      <td>[Drama, Short]</td>\n",
       "    </tr>\n",
       "    <tr>\n",
       "      <th>51173</th>\n",
       "      <td>tt9909178.jpg</td>\n",
       "      <td>[Short]</td>\n",
       "    </tr>\n",
       "    <tr>\n",
       "      <th>51174</th>\n",
       "      <td>tt9909938.jpg</td>\n",
       "      <td>[Sci-Fi]</td>\n",
       "    </tr>\n",
       "    <tr>\n",
       "      <th>51175</th>\n",
       "      <td>tt9913642.jpg</td>\n",
       "      <td>[History, War]</td>\n",
       "    </tr>\n",
       "  </tbody>\n",
       "</table>\n",
       "<p>51176 rows × 2 columns</p>\n",
       "</div>"
      ],
      "text/plain": [
       "            filename                      labels\n",
       "0      tt0018295.jpg      [Action, Drama, Short]\n",
       "1      tt0035423.jpg  [Comedy, Fantasy, Romance]\n",
       "2      tt0068943.jpg        [Documentary, Short]\n",
       "3      tt0088751.jpg    [Comedy, Horror, Sci-Fi]\n",
       "4      tt0096056.jpg                     [Drama]\n",
       "...              ...                         ...\n",
       "51171  tt9907474.jpg              [Drama, Short]\n",
       "51172  tt9907718.jpg              [Drama, Short]\n",
       "51173  tt9909178.jpg                     [Short]\n",
       "51174  tt9909938.jpg                    [Sci-Fi]\n",
       "51175  tt9913642.jpg              [History, War]\n",
       "\n",
       "[51176 rows x 2 columns]"
      ]
     },
     "execution_count": 5,
     "metadata": {},
     "output_type": "execute_result"
    }
   ],
   "source": [
    "img_metadata_df"
   ]
  },
  {
   "cell_type": "code",
   "execution_count": 21,
   "metadata": {},
   "outputs": [
    {
     "name": "stdout",
     "output_type": "stream",
     "text": [
      "Found 30706 validated image filenames belonging to 26 classes.\n",
      "Found 7676 validated image filenames belonging to 26 classes.\n",
      "Found 12794 validated image filenames belonging to 26 classes.\n"
     ]
    }
   ],
   "source": [
    "# defining the geerators that are going to pass batches of images during training\n",
    "# rescaled and resized while performing a validation split in 0.2\n",
    "img_gen = ImageDataGenerator(rescale=1./255., validation_split=0.2)\n",
    "\n",
    "img_iter_train = img_gen.flow_from_dataframe(\n",
    "    dataframe=train,\n",
    "    shuffle=True,\n",
    "    seed = 9,\n",
    "    directory=\"C:/IMDB_resized/\",\n",
    "    x_col='filename',\n",
    "    y_col='labels',\n",
    "    class_mode='categorical',\n",
    "    target_size=(128, 128),\n",
    "    batch_size=50,\n",
    "    subset='training'\n",
    ") \n",
    "\n",
    "img_iter_val = img_gen.flow_from_dataframe(\n",
    "    dataframe=train,\n",
    "    shuffle=True,\n",
    "    seed = 9,\n",
    "    directory=\"C:/IMDB_resized/\",\n",
    "    x_col='filename',\n",
    "    y_col='labels',\n",
    "    class_mode='categorical',\n",
    "    target_size=(128, 128),\n",
    "    batch_size=200,\n",
    "    subset='validation'\n",
    ") \n",
    "\n",
    "test_datagen=ImageDataGenerator(rescale=1./255.)\n",
    "\n",
    "test_generator=test_datagen.flow_from_dataframe(\n",
    "dataframe=test,\n",
    "directory=\"C:/IMDB_resized/\",\n",
    "x_col='filename',\n",
    "y_col='labels',\n",
    "class_mode='categorical',\n",
    "batch_size=1,\n",
    "seed=9,\n",
    "shuffle=False,\n",
    "target_size=(128, 128)\n",
    ")\n"
   ]
  },
  {
   "cell_type": "code",
   "execution_count": 22,
   "metadata": {},
   "outputs": [
    {
     "data": {
      "text/plain": [
       "26309              [Documentary, Short]\n",
       "43197                     [Documentary]\n",
       "47522                          [Comedy]\n",
       "25036                           [Short]\n",
       "43161                           [Short]\n",
       "                      ...              \n",
       "5014                    [Comedy, Short]\n",
       "42747                           [Drama]\n",
       "22584    [Adventure, Animation, Family]\n",
       "501          [Action, Adventure, Drama]\n",
       "20828                     [Documentary]\n",
       "Name: labels, Length: 38382, dtype: object"
      ]
     },
     "execution_count": 22,
     "metadata": {},
     "output_type": "execute_result"
    }
   ],
   "source": [
    "train.labels"
   ]
  },
  {
   "cell_type": "code",
   "execution_count": 42,
   "metadata": {},
   "outputs": [],
   "source": [
    "# definging the model and compiling using Adam optimizer with a learning\n",
    "# rate of 0.001 and metry validation accuracy\n",
    "model = Sequential([\n",
    "Conv2D(filters=16, kernel_size=(3, 3), activation=\"relu\", input_shape=(128,128,3)),\n",
    "MaxPooling2D(pool_size=(2, 2)),\n",
    "Dropout(0.25),\n",
    "\n",
    "Conv2D(filters=32, kernel_size=(3, 3), activation='relu'),\n",
    "MaxPooling2D(pool_size=(2, 2)),\n",
    "Dropout(0.25),\n",
    "Conv2D(filters=64, kernel_size=(3, 3), activation='relu'),\n",
    "MaxPooling2D(pool_size=(2, 2)),\n",
    "Dropout(0.25),\n",
    "    \n",
    "Flatten(),\n",
    "Dense(256, activation='relu'),\n",
    "Dropout(0.5),\n",
    "Dense(128, activation='relu'),\n",
    "Dropout(0.5),\n",
    "Dense(26, activation='sigmoid')\n",
    "])\n",
    "\n",
    "model.compile(optimizer=Adam(lr = 0.0009), \n",
    "              loss='binary_crossentropy', \n",
    "              metrics=['accuracy','top_k_categorical_accuracy'])"
   ]
  },
  {
   "cell_type": "code",
   "execution_count": 43,
   "metadata": {
    "scrolled": true
   },
   "outputs": [
    {
     "name": "stdout",
     "output_type": "stream",
     "text": [
      "Model: \"sequential_4\"\n",
      "_________________________________________________________________\n",
      "Layer (type)                 Output Shape              Param #   \n",
      "=================================================================\n",
      "conv2d_12 (Conv2D)           (None, 126, 126, 16)      448       \n",
      "_________________________________________________________________\n",
      "max_pooling2d_12 (MaxPooling (None, 63, 63, 16)        0         \n",
      "_________________________________________________________________\n",
      "dropout_20 (Dropout)         (None, 63, 63, 16)        0         \n",
      "_________________________________________________________________\n",
      "conv2d_13 (Conv2D)           (None, 61, 61, 32)        4640      \n",
      "_________________________________________________________________\n",
      "max_pooling2d_13 (MaxPooling (None, 30, 30, 32)        0         \n",
      "_________________________________________________________________\n",
      "dropout_21 (Dropout)         (None, 30, 30, 32)        0         \n",
      "_________________________________________________________________\n",
      "conv2d_14 (Conv2D)           (None, 28, 28, 64)        18496     \n",
      "_________________________________________________________________\n",
      "max_pooling2d_14 (MaxPooling (None, 14, 14, 64)        0         \n",
      "_________________________________________________________________\n",
      "dropout_22 (Dropout)         (None, 14, 14, 64)        0         \n",
      "_________________________________________________________________\n",
      "flatten_4 (Flatten)          (None, 12544)             0         \n",
      "_________________________________________________________________\n",
      "dense_12 (Dense)             (None, 256)               3211520   \n",
      "_________________________________________________________________\n",
      "dropout_23 (Dropout)         (None, 256)               0         \n",
      "_________________________________________________________________\n",
      "dense_13 (Dense)             (None, 128)               32896     \n",
      "_________________________________________________________________\n",
      "dropout_24 (Dropout)         (None, 128)               0         \n",
      "_________________________________________________________________\n",
      "dense_14 (Dense)             (None, 26)                3354      \n",
      "=================================================================\n",
      "Total params: 3,271,354\n",
      "Trainable params: 3,271,354\n",
      "Non-trainable params: 0\n",
      "_________________________________________________________________\n"
     ]
    }
   ],
   "source": [
    "model.summary()"
   ]
  },
  {
   "cell_type": "code",
   "execution_count": 44,
   "metadata": {},
   "outputs": [],
   "source": [
    "es = EarlyStopping(monitor = 'val_top_k_categorical_accuracy',\n",
    "                           mode = 'max',\n",
    "                           verbose = 2,\n",
    "                           patience = 6,\n",
    "                           min_delta = 0.01,\n",
    "                           restore_best_weights = True)"
   ]
  },
  {
   "cell_type": "code",
   "execution_count": 45,
   "metadata": {},
   "outputs": [],
   "source": [
    "STEP_SIZE_TRAIN=img_iter_train.n//img_iter_train.batch_size\n",
    "STEP_SIZE_VALID=img_iter_val.n//img_iter_val.batch_size\n",
    "STEP_SIZE_TEST=test_generator.n//test_generator.batch_size"
   ]
  },
  {
   "cell_type": "code",
   "execution_count": 46,
   "metadata": {
    "scrolled": false
   },
   "outputs": [
    {
     "name": "stdout",
     "output_type": "stream",
     "text": [
      "Epoch 1/100\n",
      "614/614 [==============================] - 33s 54ms/step - loss: 0.2248 - accuracy: 0.9220 - top_k_categorical_accuracy: 0.6767 - val_loss: 0.1957 - val_accuracy: 0.9312 - val_top_k_categorical_accuracy: 0.7339\n",
      "Epoch 2/100\n",
      "614/614 [==============================] - 33s 53ms/step - loss: 0.1996 - accuracy: 0.9308 - top_k_categorical_accuracy: 0.7371 - val_loss: 0.1929 - val_accuracy: 0.9318 - val_top_k_categorical_accuracy: 0.7205\n",
      "Epoch 3/100\n",
      "614/614 [==============================] - 32s 52ms/step - loss: 0.1965 - accuracy: 0.9313 - top_k_categorical_accuracy: 0.7389 - val_loss: 0.1908 - val_accuracy: 0.9319 - val_top_k_categorical_accuracy: 0.7351\n",
      "Epoch 4/100\n",
      "614/614 [==============================] - 31s 51ms/step - loss: 0.1936 - accuracy: 0.9316 - top_k_categorical_accuracy: 0.7391 - val_loss: 0.1909 - val_accuracy: 0.9309 - val_top_k_categorical_accuracy: 0.7313\n",
      "Epoch 5/100\n",
      "614/614 [==============================] - 32s 52ms/step - loss: 0.1926 - accuracy: 0.9317 - top_k_categorical_accuracy: 0.7406 - val_loss: 0.1900 - val_accuracy: 0.9316 - val_top_k_categorical_accuracy: 0.7483\n",
      "Epoch 6/100\n",
      "614/614 [==============================] - 32s 51ms/step - loss: 0.1914 - accuracy: 0.9319 - top_k_categorical_accuracy: 0.7431 - val_loss: 0.1887 - val_accuracy: 0.9321 - val_top_k_categorical_accuracy: 0.7466\n",
      "Epoch 7/100\n",
      "614/614 [==============================] - 32s 52ms/step - loss: 0.1903 - accuracy: 0.9320 - top_k_categorical_accuracy: 0.7485 - val_loss: 0.1891 - val_accuracy: 0.9320 - val_top_k_categorical_accuracy: 0.7408\n",
      "Epoch 8/100\n",
      "614/614 [==============================] - 32s 52ms/step - loss: 0.1892 - accuracy: 0.9324 - top_k_categorical_accuracy: 0.7503 - val_loss: 0.1884 - val_accuracy: 0.9319 - val_top_k_categorical_accuracy: 0.7345\n",
      "Epoch 9/100\n",
      "614/614 [==============================] - 33s 54ms/step - loss: 0.1885 - accuracy: 0.9325 - top_k_categorical_accuracy: 0.7513 - val_loss: 0.1895 - val_accuracy: 0.9312 - val_top_k_categorical_accuracy: 0.7449\n",
      "Epoch 10/100\n",
      "614/614 [==============================] - 33s 53ms/step - loss: 0.1876 - accuracy: 0.9328 - top_k_categorical_accuracy: 0.7548 - val_loss: 0.1874 - val_accuracy: 0.9322 - val_top_k_categorical_accuracy: 0.7471\n",
      "Epoch 11/100\n",
      "614/614 [==============================] - 33s 53ms/step - loss: 0.1863 - accuracy: 0.9330 - top_k_categorical_accuracy: 0.7583 - val_loss: 0.1877 - val_accuracy: 0.9319 - val_top_k_categorical_accuracy: 0.7695\n",
      "Epoch 12/100\n",
      "614/614 [==============================] - 32s 52ms/step - loss: 0.1848 - accuracy: 0.9334 - top_k_categorical_accuracy: 0.7650 - val_loss: 0.1884 - val_accuracy: 0.9316 - val_top_k_categorical_accuracy: 0.7605\n",
      "Epoch 13/100\n",
      "614/614 [==============================] - 32s 52ms/step - loss: 0.1834 - accuracy: 0.9335 - top_k_categorical_accuracy: 0.7663 - val_loss: 0.1871 - val_accuracy: 0.9323 - val_top_k_categorical_accuracy: 0.7671\n",
      "Epoch 14/100\n",
      "614/614 [==============================] - 32s 51ms/step - loss: 0.1822 - accuracy: 0.9342 - top_k_categorical_accuracy: 0.7709 - val_loss: 0.1875 - val_accuracy: 0.9318 - val_top_k_categorical_accuracy: 0.7512\n",
      "Epoch 15/100\n",
      "614/614 [==============================] - 32s 52ms/step - loss: 0.1810 - accuracy: 0.9345 - top_k_categorical_accuracy: 0.7743 - val_loss: 0.1876 - val_accuracy: 0.9324 - val_top_k_categorical_accuracy: 0.7542\n",
      "Epoch 16/100\n",
      "614/614 [==============================] - 32s 52ms/step - loss: 0.1797 - accuracy: 0.9348 - top_k_categorical_accuracy: 0.7753 - val_loss: 0.1878 - val_accuracy: 0.9322 - val_top_k_categorical_accuracy: 0.7593\n",
      "Epoch 17/100\n",
      "612/614 [============================>.] - ETA: 0s - loss: 0.1786 - accuracy: 0.9355 - top_k_categorical_accuracy: 0.7776Restoring model weights from the end of the best epoch.\n",
      "614/614 [==============================] - 32s 53ms/step - loss: 0.1786 - accuracy: 0.9355 - top_k_categorical_accuracy: 0.7775 - val_loss: 0.1881 - val_accuracy: 0.9320 - val_top_k_categorical_accuracy: 0.7611\n",
      "Epoch 00017: early stopping\n"
     ]
    }
   ],
   "source": [
    "\n",
    "\n",
    "history = model.fit_generator(\n",
    "    generator = img_iter_train,\n",
    "    validation_data = img_iter_val,\n",
    "    epochs=100,\n",
    "    steps_per_epoch = STEP_SIZE_TRAIN,\n",
    "    validation_steps= STEP_SIZE_VALID,\n",
    "    callbacks= [es]\n",
    ")"
   ]
  },
  {
   "cell_type": "code",
   "execution_count": 47,
   "metadata": {},
   "outputs": [
    {
     "data": {
      "image/png": "[encoded data removed]",
      "text/plain": [
       "<Figure size 432x288 with 1 Axes>"
      ]
     },
     "metadata": {
      "needs_background": "light"
     },
     "output_type": "display_data"
    }
   ],
   "source": [
    "plt.plot(history.history['accuracy'])\n",
    "plt.plot(history.history['val_accuracy'])\n",
    "plt.title('model accuracy')\n",
    "plt.ylabel('accuracy')\n",
    "plt.xlabel('epoch')\n",
    "plt.legend(['training', 'validation'], loc='upper left')\n",
    "plt.show()"
   ]
  },
  {
   "cell_type": "code",
   "execution_count": 48,
   "metadata": {},
   "outputs": [
    {
     "data": {
      "image/png": "[encoded data removed]",
      "text/plain": [
       "<Figure size 432x288 with 1 Axes>"
      ]
     },
     "metadata": {
      "needs_background": "light"
     },
     "output_type": "display_data"
    }
   ],
   "source": [
    "plt.plot(history.history['loss'])\n",
    "plt.plot(history.history['val_loss'])\n",
    "plt.title('model loss')\n",
    "plt.ylabel('loss')\n",
    "plt.xlabel('epoch')\n",
    "plt.legend(['training', 'validation'], loc='upper left')\n",
    "plt.show()"
   ]
  },
  {
   "cell_type": "code",
   "execution_count": 49,
   "metadata": {},
   "outputs": [
    {
     "name": "stdout",
     "output_type": "stream",
     "text": [
      "12794/12794 [==============================] - 77s 6ms/step\n"
     ]
    }
   ],
   "source": [
    "test_generator.reset()\n",
    "pred=model.predict_generator(test_generator,\n",
    "steps=STEP_SIZE_TEST,\n",
    "verbose=1)"
   ]
  },
  {
   "cell_type": "code",
   "execution_count": 54,
   "metadata": {},
   "outputs": [
    {
     "name": "stdout",
     "output_type": "stream",
     "text": [
      "12794/12794 [==============================] - 146s 11ms/step - loss: 0.1873 - accuracy: 0.9321 - top_k_categorical_accuracy: 0.7670\n"
     ]
    },
    {
     "data": {
      "text/plain": [
       "[0.18732895553857437, 0.9321393, 0.76700014]"
      ]
     },
     "execution_count": 54,
     "metadata": {},
     "output_type": "execute_result"
    }
   ],
   "source": [
    "test_generator.reset()\n",
    "model.evaluate_generator(generator = test_generator, \n",
    "                         steps=STEP_SIZE_TEST,\n",
    "                         verbose=1)"
   ]
  },
  {
   "cell_type": "code",
   "execution_count": 55,
   "metadata": {},
   "outputs": [
    {
     "name": "stdout",
     "output_type": "stream",
     "text": [
      "WARNING:tensorflow:From C:\\ProgramData\\Anaconda3\\envs\\tf-gpu\\lib\\site-packages\\tensorflow_core\\python\\ops\\resource_variable_ops.py:1781: calling BaseResourceVariable.__init__ (from tensorflow.python.ops.resource_variable_ops) with constraint is deprecated and will be removed in a future version.\n",
      "Instructions for updating:\n",
      "If using Keras pass *_constraint arguments to layers.\n",
      "INFO:tensorflow:Assets written to: C:/IMDB_resized/Model/assets\n"
     ]
    }
   ],
   "source": [
    "model.save('C:/IMDB_resized/Model/')"
   ]
  },
  {
   "cell_type": "code",
   "execution_count": 32,
   "metadata": {},
   "outputs": [],
   "source": [
    "#pred01 = pred\n",
    "#pred01[pred01 >= 0.5] = 1\n",
    "#pred01[pred01 < 0.5] = 0\n",
    "np.savetxt(\"preds.csv\", pred, delimiter=\",\")\n",
    "#np.savetxt(\"preds01.csv\", pred01, delimiter=\",\")\n",
    "\n",
    "#print(pred)\n",
    "#print(pred01)"
   ]
  },
  {
   "cell_type": "code",
   "execution_count": 50,
   "metadata": {},
   "outputs": [],
   "source": [
    "predicted_class_indices=np.argmax(pred,axis=1)\n"
   ]
  },
  {
   "cell_type": "code",
   "execution_count": 51,
   "metadata": {},
   "outputs": [],
   "source": [
    "labels = (test_generator.class_indices)\n",
    "labels = dict((v,k) for k,v in labels.items())\n",
    "predictions = [labels[k] for k in predicted_class_indices]\n"
   ]
  },
  {
   "cell_type": "code",
   "execution_count": 52,
   "metadata": {},
   "outputs": [
    {
     "data": {
      "text/plain": [
       "{0: 'Action',\n",
       " 1: 'Adult',\n",
       " 2: 'Adventure',\n",
       " 3: 'Animation',\n",
       " 4: 'Biography',\n",
       " 5: 'Comedy',\n",
       " 6: 'Crime',\n",
       " 7: 'Documentary',\n",
       " 8: 'Drama',\n",
       " 9: 'Family',\n",
       " 10: 'Fantasy',\n",
       " 11: 'History',\n",
       " 12: 'Horror',\n",
       " 13: 'Music',\n",
       " 14: 'Musical',\n",
       " 15: 'Mystery',\n",
       " 16: 'News',\n",
       " 17: 'Reality-TV',\n",
       " 18: 'Romance',\n",
       " 19: 'Sci-Fi',\n",
       " 20: 'Short',\n",
       " 21: 'Sport',\n",
       " 22: 'Talk-Show',\n",
       " 23: 'Thriller',\n",
       " 24: 'War',\n",
       " 25: 'Western'}"
      ]
     },
     "execution_count": 52,
     "metadata": {},
     "output_type": "execute_result"
    }
   ],
   "source": [
    "labels"
   ]
  },
  {
   "cell_type": "code",
   "execution_count": 53,
   "metadata": {},
   "outputs": [],
   "source": [
    "filenames=test_generator.filenames\n",
    "results=pd.DataFrame({\"Filename\":filenames,\n",
    "                      \"Predictions\":predictions})\n",
    "results.to_csv(\"results.csv\",index=False)"
   ]
  },
  {
   "cell_type": "code",
   "execution_count": null,
   "metadata": {},
   "outputs": [],
   "source": []
  }
 ],
 "metadata": {
  "kernelspec": {
   "display_name": "Python 3",
   "language": "python",
   "name": "python3"
  },
  "language_info": {
   "codemirror_mode": {
    "name": "ipython",
    "version": 3
   },
   "file_extension": ".py",
   "mimetype": "text/x-python",
   "name": "python",
   "nbconvert_exporter": "python",
   "pygments_lexer": "ipython3",
   "version": "3.7.7"
  }
 },
 "nbformat": 4,
 "nbformat_minor": 4
}
