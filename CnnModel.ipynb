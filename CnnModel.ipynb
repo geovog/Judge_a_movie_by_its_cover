{
 "cells": [
  {
   "cell_type": "code",
   "execution_count": 1,
   "metadata": {},
   "outputs": [],
   "source": [
    "import tensorflow as tf\n",
    "import csv\n",
    "import os\n",
    "import pandas as pd\n",
    "import numpy as np\n",
    "import shutil\n",
    "import PIL\n",
    "from pathlib import Path\n",
    "from sklearn.preprocessing import MultiLabelBinarizer\n",
    "from sklearn.model_selection import train_test_split\n",
    "import glob\n",
    "import piexif\n",
    "from collections import Counter\n",
    "from matplotlib import pyplot as plt\n",
    "from PIL import Image\n",
    "from PIL import ImageFile\n",
    "Image.MAX_IMAGE_PIXELS = None\n",
    "ImageFile.LOAD_TRUNCATED_IMAGES = True\n",
    "from tensorflow.keras.preprocessing.image import ImageDataGenerator\n",
    "from tensorflow.keras.optimizers import Adam\n",
    "from tensorflow.keras import Sequential\n",
    "from tensorflow.keras.layers import Conv2D,MaxPooling2D,Dropout,Flatten,Dense\n",
    "from tensorflow.keras.callbacks import EarlyStopping\n",
    "\n"
   ]
  },
  {
   "cell_type": "code",
   "execution_count": 2,
   "metadata": {},
   "outputs": [],
   "source": [
    "labelsCsv = pd.read_csv(\"C:/Users/manta/Desktop/new.csv\")\n",
    "\n",
    "# When generating datasets from dataframe,using ImageDataGenerator, we noticed that train and valid sets\n",
    "# had a class less than the test set. So comparing the labels we realised that one single tittle had the genre\n",
    "# 'Game-Show' which we have to remove so each set has the same classes\n",
    "labelsCsv = labelsCsv[~labelsCsv.genres.str.contains(\"Game-Show\")]\n",
    "\n",
    "nfiles = 0\n",
    "\n",
    "# We remove exif metadata from pictures and resize them to max size of 128x128, while maintaining the aspect ratio\n",
    "# of the original photo\n",
    "\n",
    "#for filename in glob.iglob('C:/IMDB_m/*.jpg', recursive=True):\n",
    "    #nfiles = nfiles + 1\n",
    "    #print(\"About to process file %d, which is %s.\" % (nfiles,filename))\n",
    "    #piexif.remove(filename)\n",
    "\n",
    "size=(128, 128)\n",
    "\n",
    "#for filename in glob.iglob('C:/IMDB_m/*.jpg', recursive=True):\n",
    "    #im = Image.open(filename)\n",
    "    #im.thumbnail(size, Image.ANTIALIAS)\n",
    "    #x = filename.split(\"\\\\\", 1)\n",
    "    #im.save(\"C:/IMDB_mr/\"+x[1], \"JPEG\")\n",
    "\n"
   ]
  },
  {
   "cell_type": "code",
   "execution_count": 3,
   "metadata": {},
   "outputs": [
    {
     "name": "stderr",
     "output_type": "stream",
     "text": [
      "C:\\ProgramData\\Anaconda3\\envs\\tf-gpu\\lib\\site-packages\\ipykernel_launcher.py:3: VisibleDeprecationWarning: Creating an ndarray from ragged nested sequences (which is a list-or-tuple of lists-or-tuples-or ndarrays with different lengths or shapes) is deprecated. If you meant to do this, you must specify 'dtype=object' when creating the ndarray\n",
      "  This is separate from the ipykernel package so we can avoid doing imports until\n"
     ]
    }
   ],
   "source": [
    "all_genres = [[genre for genre in cel.split(',')] for cel in labelsCsv.genres]\n",
    "one_hot = MultiLabelBinarizer()\n",
    "y_s =one_hot.fit_transform(np.array(all_genres))"
   ]
  },
  {
   "cell_type": "code",
   "execution_count": 4,
   "metadata": {},
   "outputs": [],
   "source": [
    "# creating and formating the dataset that we are going to use\n",
    "d = {'filename' : [tconst + \".jpg\" for tconst in labelsCsv.tconst],\n",
    "    'labels' : [[genre for genre in cel.split(',')] for cel in labelsCsv.genres]}\n",
    "\n",
    "img_metadata_df = pd.DataFrame(d)\n",
    "\n",
    "train, test = train_test_split(img_metadata_df, test_size=0.20, random_state=9, shuffle=True)\n",
    "data_dir=\"C:/IMDB_mr/\"\n",
    "train_path = Path(data_dir, 'train.csv')\n",
    "test_path = Path(data_dir, 'test.csv')\n",
    "train.to_csv(train_path, sep=',', index=False)\n",
    "test.to_csv(test_path, sep=',', index=False)"
   ]
  },
  {
   "cell_type": "code",
   "execution_count": 5,
   "metadata": {},
   "outputs": [
    {
     "data": {
      "text/html": [
       "<div>\n",
       "<style scoped>\n",
       "    .dataframe tbody tr th:only-of-type {\n",
       "        vertical-align: middle;\n",
       "    }\n",
       "\n",
       "    .dataframe tbody tr th {\n",
       "        vertical-align: top;\n",
       "    }\n",
       "\n",
       "    .dataframe thead th {\n",
       "        text-align: right;\n",
       "    }\n",
       "</style>\n",
       "<table border=\"1\" class=\"dataframe\">\n",
       "  <thead>\n",
       "    <tr style=\"text-align: right;\">\n",
       "      <th></th>\n",
       "      <th>filename</th>\n",
       "      <th>labels</th>\n",
       "    </tr>\n",
       "  </thead>\n",
       "  <tbody>\n",
       "    <tr>\n",
       "      <th>0</th>\n",
       "      <td>tt0018295.jpg</td>\n",
       "      <td>[Action, Drama, Short]</td>\n",
       "    </tr>\n",
       "    <tr>\n",
       "      <th>1</th>\n",
       "      <td>tt0035423.jpg</td>\n",
       "      <td>[Comedy, Fantasy, Romance]</td>\n",
       "    </tr>\n",
       "    <tr>\n",
       "      <th>2</th>\n",
       "      <td>tt0068943.jpg</td>\n",
       "      <td>[Documentary, Short]</td>\n",
       "    </tr>\n",
       "    <tr>\n",
       "      <th>3</th>\n",
       "      <td>tt0088751.jpg</td>\n",
       "      <td>[Comedy, Horror, Sci-Fi]</td>\n",
       "    </tr>\n",
       "    <tr>\n",
       "      <th>4</th>\n",
       "      <td>tt0096056.jpg</td>\n",
       "      <td>[Drama]</td>\n",
       "    </tr>\n",
       "    <tr>\n",
       "      <th>...</th>\n",
       "      <td>...</td>\n",
       "      <td>...</td>\n",
       "    </tr>\n",
       "    <tr>\n",
       "      <th>92765</th>\n",
       "      <td>tt9725160.jpg</td>\n",
       "      <td>[Biography]</td>\n",
       "    </tr>\n",
       "    <tr>\n",
       "      <th>92766</th>\n",
       "      <td>tt9727592.jpg</td>\n",
       "      <td>[Music, Short]</td>\n",
       "    </tr>\n",
       "    <tr>\n",
       "      <th>92767</th>\n",
       "      <td>tt9728286.jpg</td>\n",
       "      <td>[Action, Short]</td>\n",
       "    </tr>\n",
       "    <tr>\n",
       "      <th>92768</th>\n",
       "      <td>tt9729754.jpg</td>\n",
       "      <td>[Documentary]</td>\n",
       "    </tr>\n",
       "    <tr>\n",
       "      <th>92769</th>\n",
       "      <td>tt9729806.jpg</td>\n",
       "      <td>[Documentary]</td>\n",
       "    </tr>\n",
       "  </tbody>\n",
       "</table>\n",
       "<p>92770 rows × 2 columns</p>\n",
       "</div>"
      ],
      "text/plain": [
       "            filename                      labels\n",
       "0      tt0018295.jpg      [Action, Drama, Short]\n",
       "1      tt0035423.jpg  [Comedy, Fantasy, Romance]\n",
       "2      tt0068943.jpg        [Documentary, Short]\n",
       "3      tt0088751.jpg    [Comedy, Horror, Sci-Fi]\n",
       "4      tt0096056.jpg                     [Drama]\n",
       "...              ...                         ...\n",
       "92765  tt9725160.jpg                 [Biography]\n",
       "92766  tt9727592.jpg              [Music, Short]\n",
       "92767  tt9728286.jpg             [Action, Short]\n",
       "92768  tt9729754.jpg               [Documentary]\n",
       "92769  tt9729806.jpg               [Documentary]\n",
       "\n",
       "[92770 rows x 2 columns]"
      ]
     },
     "execution_count": 5,
     "metadata": {},
     "output_type": "execute_result"
    }
   ],
   "source": [
    "img_metadata_df"
   ]
  },
  {
   "cell_type": "code",
   "execution_count": 6,
   "metadata": {},
   "outputs": [
    {
     "name": "stdout",
     "output_type": "stream",
     "text": [
      "Found 59373 validated image filenames belonging to 26 classes.\n",
      "Found 14843 validated image filenames belonging to 26 classes.\n",
      "Found 18554 validated image filenames belonging to 26 classes.\n"
     ]
    }
   ],
   "source": [
    "# defining the geerators that are going to pass batches of images during training\n",
    "# rescaled and resized while performing a validation split in 0.2\n",
    "img_gen = ImageDataGenerator(rescale=1./255., validation_split=0.2)\n",
    "\n",
    "img_iter_train = img_gen.flow_from_dataframe(\n",
    "    dataframe=train,\n",
    "    shuffle=True,\n",
    "    seed = 9,\n",
    "    directory=\"C:/IMDB_mr/\",\n",
    "    x_col='filename',\n",
    "    y_col='labels',\n",
    "    class_mode='categorical',\n",
    "    target_size=(128, 128),\n",
    "    batch_size=50,\n",
    "    subset='training'\n",
    ") \n",
    "\n",
    "img_iter_val = img_gen.flow_from_dataframe(\n",
    "    dataframe=train,\n",
    "    shuffle=True,\n",
    "    seed = 9,\n",
    "    directory=\"C:/IMDB_mr/\",\n",
    "    x_col='filename',\n",
    "    y_col='labels',\n",
    "    class_mode='categorical',\n",
    "    target_size=(128, 128),\n",
    "    batch_size=100,\n",
    "    subset='validation'\n",
    ") \n",
    "\n",
    "test_datagen=ImageDataGenerator(rescale=1./255.)\n",
    "\n",
    "test_generator=test_datagen.flow_from_dataframe(\n",
    "dataframe=test,\n",
    "directory=\"C:/IMDB_mr/\",\n",
    "x_col='filename',\n",
    "y_col='labels',\n",
    "class_mode='categorical',\n",
    "batch_size=1,\n",
    "seed=9,\n",
    "shuffle=False,\n",
    "target_size=(128, 128)\n",
    ")\n"
   ]
  },
  {
   "cell_type": "code",
   "execution_count": 29,
   "metadata": {},
   "outputs": [
    {
     "data": {
      "text/plain": [
       "74873            [Comedy, Drama, Short]\n",
       "77438          [Biography, Documentary]\n",
       "51929              [Documentary, Short]\n",
       "15796                    [Drama, Short]\n",
       "83489                       [Biography]\n",
       "                      ...              \n",
       "22584    [Adventure, Animation, Family]\n",
       "65462    [Adventure, Animation, Comedy]\n",
       "66037          [Drama, Horror, Mystery]\n",
       "55934                [Animation, Short]\n",
       "86364                           [Short]\n",
       "Name: labels, Length: 74216, dtype: object"
      ]
     },
     "execution_count": 29,
     "metadata": {},
     "output_type": "execute_result"
    }
   ],
   "source": [
    "train.labels"
   ]
  },
  {
   "cell_type": "code",
   "execution_count": 30,
   "metadata": {},
   "outputs": [],
   "source": [
    "# definging the model and compiling using Adam optimizer with a learning\n",
    "# rate of 0.001 and metry validation accuracy\n",
    "model = Sequential([\n",
    "Conv2D(filters=32, kernel_size=(3, 3), activation=\"relu\", input_shape=(128,128,3)),\n",
    "Conv2D(filters=32, kernel_size=(3, 3), activation='relu'),    \n",
    "MaxPooling2D(pool_size=(2, 2)),\n",
    "Dropout(0.25),\n",
    "    \n",
    "Conv2D(filters=64, kernel_size=(3, 3), activation='relu'),\n",
    "Conv2D(filters=64, kernel_size=(3, 3), activation='relu'),\n",
    "MaxPooling2D(pool_size=(2, 2)),\n",
    "Dropout(0.25),\n",
    "    \n",
    "\n",
    "Conv2D(128, kernel_size=(3, 3), activation='relu'),\n",
    "MaxPooling2D(pool_size=(2, 2)),\n",
    "Dropout(0.25),  \n",
    "    \n",
    "Flatten(),\n",
    "Dense(512, activation='relu'),\n",
    "Dropout(0.5),\n",
    "Dense(256, activation='relu'),\n",
    "Dropout(0.5),\n",
    "Dense(26, activation='sigmoid')\n",
    "])\n",
    "\n",
    "model.compile(optimizer=Adam(lr = 0.0001), \n",
    "              loss='binary_crossentropy', \n",
    "              metrics=['accuracy','top_k_categorical_accuracy'])"
   ]
  },
  {
   "cell_type": "code",
   "execution_count": 31,
   "metadata": {
    "scrolled": true
   },
   "outputs": [
    {
     "name": "stdout",
     "output_type": "stream",
     "text": [
      "Model: \"sequential_3\"\n",
      "_________________________________________________________________\n",
      "Layer (type)                 Output Shape              Param #   \n",
      "=================================================================\n",
      "conv2d_18 (Conv2D)           (None, 126, 126, 32)      896       \n",
      "_________________________________________________________________\n",
      "conv2d_19 (Conv2D)           (None, 124, 124, 32)      9248      \n",
      "_________________________________________________________________\n",
      "max_pooling2d_9 (MaxPooling2 (None, 62, 62, 32)        0         \n",
      "_________________________________________________________________\n",
      "dropout_14 (Dropout)         (None, 62, 62, 32)        0         \n",
      "_________________________________________________________________\n",
      "conv2d_20 (Conv2D)           (None, 60, 60, 64)        18496     \n",
      "_________________________________________________________________\n",
      "conv2d_21 (Conv2D)           (None, 58, 58, 64)        36928     \n",
      "_________________________________________________________________\n",
      "max_pooling2d_10 (MaxPooling (None, 29, 29, 64)        0         \n",
      "_________________________________________________________________\n",
      "dropout_15 (Dropout)         (None, 29, 29, 64)        0         \n",
      "_________________________________________________________________\n",
      "conv2d_22 (Conv2D)           (None, 27, 27, 128)       73856     \n",
      "_________________________________________________________________\n",
      "max_pooling2d_11 (MaxPooling (None, 13, 13, 128)       0         \n",
      "_________________________________________________________________\n",
      "dropout_16 (Dropout)         (None, 13, 13, 128)       0         \n",
      "_________________________________________________________________\n",
      "flatten_3 (Flatten)          (None, 21632)             0         \n",
      "_________________________________________________________________\n",
      "dense_8 (Dense)              (None, 512)               11076096  \n",
      "_________________________________________________________________\n",
      "dropout_17 (Dropout)         (None, 512)               0         \n",
      "_________________________________________________________________\n",
      "dense_9 (Dense)              (None, 256)               131328    \n",
      "_________________________________________________________________\n",
      "dropout_18 (Dropout)         (None, 256)               0         \n",
      "_________________________________________________________________\n",
      "dense_10 (Dense)             (None, 26)                6682      \n",
      "=================================================================\n",
      "Total params: 11,353,530\n",
      "Trainable params: 11,353,530\n",
      "Non-trainable params: 0\n",
      "_________________________________________________________________\n"
     ]
    }
   ],
   "source": [
    "model.summary()"
   ]
  },
  {
   "cell_type": "code",
   "execution_count": 32,
   "metadata": {},
   "outputs": [],
   "source": [
    "es = EarlyStopping(monitor = 'val_top_k_categorical_accuracy',\n",
    "                           mode = 'max',\n",
    "                           verbose = 2,\n",
    "                           patience = 5,\n",
    "                           min_delta = 0.001,\n",
    "                           restore_best_weights = True)"
   ]
  },
  {
   "cell_type": "code",
   "execution_count": 33,
   "metadata": {},
   "outputs": [],
   "source": [
    "STEP_SIZE_TRAIN=img_iter_train.n//img_iter_train.batch_size\n",
    "STEP_SIZE_VALID=img_iter_val.n//img_iter_val.batch_size\n",
    "STEP_SIZE_TEST=test_generator.n//test_generator.batch_size"
   ]
  },
  {
   "cell_type": "code",
   "execution_count": 34,
   "metadata": {
    "scrolled": false
   },
   "outputs": [
    {
     "name": "stdout",
     "output_type": "stream",
     "text": [
      "Epoch 1/50\n",
      "1187/1187 [==============================] - 101s 85ms/step - loss: 0.2347 - accuracy: 0.9178 - top_k_categorical_accuracy: 0.6264 - val_loss: 0.2233 - val_accuracy: 0.9286 - val_top_k_categorical_accuracy: 0.7286\n",
      "Epoch 2/50\n",
      "1187/1187 [==============================] - 99s 84ms/step - loss: 0.2066 - accuracy: 0.9267 - top_k_categorical_accuracy: 0.7123 - val_loss: 0.2032 - val_accuracy: 0.9289 - val_top_k_categorical_accuracy: 0.7452\n",
      "Epoch 3/50\n",
      "1187/1187 [==============================] - 100s 84ms/step - loss: 0.2026 - accuracy: 0.9277 - top_k_categorical_accuracy: 0.7239 - val_loss: 0.2048 - val_accuracy: 0.9285 - val_top_k_categorical_accuracy: 0.7339\n",
      "Epoch 4/50\n",
      "1187/1187 [==============================] - 99s 84ms/step - loss: 0.2003 - accuracy: 0.9282 - top_k_categorical_accuracy: 0.7294 - val_loss: 0.1994 - val_accuracy: 0.9286 - val_top_k_categorical_accuracy: 0.7376\n",
      "Epoch 5/50\n",
      "1187/1187 [==============================] - 99s 84ms/step - loss: 0.1987 - accuracy: 0.9287 - top_k_categorical_accuracy: 0.7319 - val_loss: 0.1973 - val_accuracy: 0.9293 - val_top_k_categorical_accuracy: 0.7517\n",
      "Epoch 6/50\n",
      "1187/1187 [==============================] - 100s 84ms/step - loss: 0.1972 - accuracy: 0.9290 - top_k_categorical_accuracy: 0.7360 - val_loss: 0.1949 - val_accuracy: 0.9295 - val_top_k_categorical_accuracy: 0.7430\n",
      "Epoch 7/50\n",
      "1187/1187 [==============================] - 101s 85ms/step - loss: 0.1961 - accuracy: 0.9293 - top_k_categorical_accuracy: 0.7371 - val_loss: 0.1964 - val_accuracy: 0.9295 - val_top_k_categorical_accuracy: 0.7451\n",
      "Epoch 8/50\n",
      "1187/1187 [==============================] - 101s 85ms/step - loss: 0.1948 - accuracy: 0.9295 - top_k_categorical_accuracy: 0.7407 - val_loss: 0.1950 - val_accuracy: 0.9300 - val_top_k_categorical_accuracy: 0.7464\n",
      "Epoch 9/50\n",
      "1187/1187 [==============================] - 100s 84ms/step - loss: 0.1941 - accuracy: 0.9297 - top_k_categorical_accuracy: 0.7431 - val_loss: 0.1949 - val_accuracy: 0.9299 - val_top_k_categorical_accuracy: 0.7433\n",
      "Epoch 10/50\n",
      "1186/1187 [============================>.] - ETA: 0s - loss: 0.1928 - accuracy: 0.9301 - top_k_categorical_accuracy: 0.7445Restoring model weights from the end of the best epoch.\n",
      "1187/1187 [==============================] - 101s 85ms/step - loss: 0.1928 - accuracy: 0.9301 - top_k_categorical_accuracy: 0.7445 - val_loss: 0.1960 - val_accuracy: 0.9302 - val_top_k_categorical_accuracy: 0.7402\n",
      "Epoch 00010: early stopping\n"
     ]
    }
   ],
   "source": [
    "history = model.fit_generator(\n",
    "    generator = img_iter_train,\n",
    "    validation_data = img_iter_val,\n",
    "    epochs=50,\n",
    "    steps_per_epoch = STEP_SIZE_TRAIN,\n",
    "    validation_steps= STEP_SIZE_VALID,\n",
    "    callbacks= [es]\n",
    ")"
   ]
  },
  {
   "cell_type": "code",
   "execution_count": 35,
   "metadata": {},
   "outputs": [
    {
     "data": {
      "image/png": "[encoded data removed]",
      "text/plain": [
       "<Figure size 432x288 with 1 Axes>"
      ]
     },
     "metadata": {
      "needs_background": "light"
     },
     "output_type": "display_data"
    }
   ],
   "source": [
    "plt.plot(history.history['accuracy'])\n",
    "plt.plot(history.history['val_accuracy'])\n",
    "plt.title('model accuracy')\n",
    "plt.ylabel('accuracy')\n",
    "plt.xlabel('epoch')\n",
    "plt.legend(['training', 'validation'], loc='upper left')\n",
    "plt.show()"
   ]
  },
  {
   "cell_type": "code",
   "execution_count": 36,
   "metadata": {},
   "outputs": [
    {
     "data": {
      "image/png": "[encoded data removed]",
      "text/plain": [
       "<Figure size 432x288 with 1 Axes>"
      ]
     },
     "metadata": {
      "needs_background": "light"
     },
     "output_type": "display_data"
    }
   ],
   "source": [
    "plt.plot(history.history['loss'])\n",
    "plt.plot(history.history['val_loss'])\n",
    "plt.title('model loss')\n",
    "plt.ylabel('loss')\n",
    "plt.xlabel('epoch')\n",
    "plt.legend(['training', 'validation'], loc='upper left')\n",
    "plt.show()"
   ]
  },
  {
   "cell_type": "code",
   "execution_count": 37,
   "metadata": {},
   "outputs": [
    {
     "name": "stdout",
     "output_type": "stream",
     "text": [
      "18554/18554 [==============================] - 130s 7ms/step\n"
     ]
    }
   ],
   "source": [
    "test_generator.reset()\n",
    "pred=model.predict_generator(test_generator,\n",
    "steps=STEP_SIZE_TEST,\n",
    "verbose=1)"
   ]
  },
  {
   "cell_type": "code",
   "execution_count": 79,
   "metadata": {},
   "outputs": [
    {
     "name": "stdout",
     "output_type": "stream",
     "text": [
      "18554/18554 [==============================] - 241s 13ms/step - loss: 0.1959 - accuracy: 0.9289 - top_k_categorical_accuracy: 0.74441s - loss: 0.1959 - accuracy: 0.9289 - top_k_categorical\n"
     ]
    },
    {
     "data": {
      "text/plain": [
       "[0.19587888329168282, 0.92888916, 0.7443678]"
      ]
     },
     "execution_count": 79,
     "metadata": {},
     "output_type": "execute_result"
    }
   ],
   "source": [
    "test_generator.reset()\n",
    "model.evaluate_generator(generator = test_generator, \n",
    "                         steps=STEP_SIZE_TEST,\n",
    "                         verbose=1)"
   ]
  },
  {
   "cell_type": "code",
   "execution_count": 38,
   "metadata": {},
   "outputs": [
    {
     "name": "stdout",
     "output_type": "stream",
     "text": [
      "WARNING:tensorflow:From C:\\ProgramData\\Anaconda3\\envs\\tf-gpu\\lib\\site-packages\\tensorflow_core\\python\\ops\\resource_variable_ops.py:1781: calling BaseResourceVariable.__init__ (from tensorflow.python.ops.resource_variable_ops) with constraint is deprecated and will be removed in a future version.\n",
      "Instructions for updating:\n",
      "If using Keras pass *_constraint arguments to layers.\n",
      "INFO:tensorflow:Assets written to: C:/IMDB_mr/Model/assets\n"
     ]
    }
   ],
   "source": [
    "model.save('C:/IMDB_mr/Model/')\n",
    "np.savetxt(\"preds.csv\", pred, delimiter=\",\")"
   ]
  },
  {
   "cell_type": "code",
   "execution_count": 39,
   "metadata": {},
   "outputs": [],
   "source": [
    "#pred01 = pred\n",
    "#pred01[pred01 >= 0.5] = 1\n",
    "#pred01[pred01 < 0.5] = 0\n",
    "#np.savetxt(\"preds01.csv\", pred01, delimiter=\",\")\n",
    "#print(pred)\n",
    "#print(pred01)"
   ]
  },
  {
   "cell_type": "code",
   "execution_count": 40,
   "metadata": {},
   "outputs": [],
   "source": [
    "predicted_class_indices=np.argmax(pred,axis=1)\n",
    "\n",
    "test_generator.reset()\n",
    "labels = (test_generator.class_indices)\n",
    "labels = dict((v,k) for k,v in labels.items())\n",
    "\n",
    "predictions = [labels[k] for k in predicted_class_indices]\n",
    "\n",
    "filenames=test_generator.filenames\n",
    "results=pd.DataFrame({\"Filename\":filenames,\n",
    "                      \"Predictions\":predictions})\n",
    "results.to_csv(\"results.csv\",index=False)\n"
   ]
  },
  {
   "cell_type": "code",
   "execution_count": null,
   "metadata": {},
   "outputs": [],
   "source": []
  }
 ],
 "metadata": {
  "kernelspec": {
   "display_name": "Python 3",
   "language": "python",
   "name": "python3"
  },
  "language_info": {
   "codemirror_mode": {
    "name": "ipython",
    "version": 3
   },
   "file_extension": ".py",
   "mimetype": "text/x-python",
   "name": "python",
   "nbconvert_exporter": "python",
   "pygments_lexer": "ipython3",
   "version": "3.7.7"
  }
 },
 "nbformat": 4,
 "nbformat_minor": 4
}
